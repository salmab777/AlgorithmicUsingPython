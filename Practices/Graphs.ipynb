{
 "cells": [
  {
   "cell_type": "markdown",
   "metadata": {},
   "source": [
    "## Exercise 1: Write a function that checks whether a given graph is connected or not.\n",
    "\n",
    "A graph $G=(S,A)$ is said to be connected if for any pair of vertices $(u,v)$ there is a path connecting $u$ and $v$. \n",
    "- Example 1: Oriented graph\n",
    "\n",
    "![orientedgraph](data/oriented-graph.png)\n",
    "\n",
    "    - The graph above is connected because we can find a path between each pair of vertices\n",
    "    - The pairs of vertices are: $(1,2)$, $(1,3)$, $(1,4)$, $(1,5)$, $(2,3)$, $(2,4)$, $(2,5)$, $(3,2)$, $(3,4)$, $(3,5)$, $(4,5)$.\n",
    "    \n",
    "- Example 2: Unoriented graph\n",
    "\n",
    "![unorientedgraph](data/unoriented-graph.png)\n",
    "\n",
    "    - The graph above is not connected because we cannot find a path between the vertices (5,6) and the other vertices. \n",
    "    - This graph is composed of two connected components."
   ]
  },
  {
   "cell_type": "code",
   "execution_count": 1,
   "metadata": {},
   "outputs": [
    {
     "data": {
      "text/plain": [
       "'Graph is connected'"
      ]
     },
     "execution_count": 1,
     "metadata": {},
     "output_type": "execute_result"
    }
   ],
   "source": [
    "import numpy as np\n",
    "matrice = np.array([\n",
    "                   [0,1,0,1,1,0,0],\n",
    "                   [1,0,1,0,0,1,1],\n",
    "                   [0,1,0,0,0,0,0],\n",
    "                   [1,0,0,0,0,0,0],\n",
    "                   [1,0,0,0,0,0,0],\n",
    "                   [0,1,0,0,0,0,0],\n",
    "                   [0,1,0,0,0,0,0]])\n",
    "\n",
    "def connetcion_check(mat, x=0):\n",
    "    already_checked=[x]\n",
    "    for vertex in already_checked:\n",
    "        is_connected = False\n",
    "        for j in range(len(mat[vertex])):\n",
    "            if mat[vertex][j]==1:\n",
    "                is_connected = True\n",
    "                if (j not in already_checked):\n",
    "                    already_checked.append(j)\n",
    "                    \n",
    "            elif j== len(mat[vertex])-1 and mat[vertex][j]== 0 and is_connected == False:\n",
    "                return \"Graph is not connected\"\n",
    "            else:\n",
    "                continue\n",
    "    if len(already_checked) == len(mat):\n",
    "        return \"Graph is connected\"\n",
    "    else:\n",
    "        return \"Graph is not connected\"\n",
    "connetcion_check(matrice)"
   ]
  },
  {
   "cell_type": "markdown",
   "metadata": {},
   "source": [
    "## Exercise 2: Given a binary tree, find the sum of all the leaves.\n",
    "\n",
    "![Tree1](data/tree1.png)\n",
    "\n",
    "- Example: \n",
    "\n",
    "```python\n",
    ">>> a = [40, [14, [5, [3, [], []], [2, [], []] ], [4, [], [] ]], [6, [1, [], []], [5, [], []]]]\n",
    ">>> print(somme_feuilles(a3))\n",
    "```"
   ]
  },
  {
   "cell_type": "code",
   "execution_count": 6,
   "metadata": {},
   "outputs": [
    {
     "name": "stdout",
     "output_type": "stream",
     "text": [
      "15\n"
     ]
    }
   ],
   "source": [
    "a = [40, [14, [5, [3, [], []], [2, [], []] ], [4, [], [] ]], [6, [1, [], []], [5, [], []]]]\n",
    "def somme(a):\n",
    "    if a[1]==[] and a[2]==[]:\n",
    "        return a[0]\n",
    "    else :\n",
    "        return somme(a[1])+somme(a[2])\n",
    "     \n",
    "print(somme(a))"
   ]
  },
  {
   "cell_type": "markdown",
   "metadata": {},
   "source": [
    "## Exercise 3: Given a binary tree, check whether all leaves are at the same level or not.\n",
    "\n",
    "![Tree2](data/tree2.png)\n",
    "\n",
    "- Expected output:\n",
    "\n",
    "```python\n",
    ">>> same_level(T1) \n",
    "False\n",
    ">>> same_level(T2)\n",
    "True\n",
    "```"
   ]
  },
  {
   "cell_type": "code",
   "execution_count": 5,
   "metadata": {},
   "outputs": [
    {
     "name": "stdout",
     "output_type": "stream",
     "text": [
      "False\n",
      "True\n"
     ]
    }
   ],
   "source": [
    "T1= [40, [14, [5, [3, [], []], [2, [], []] ], [4, [], [] ]], [6, [1, [], []], [5, [], []]]]\n",
    "def same_level(tree):\n",
    "    if tree[1][1]==[] and tree[2][1]==[]:\n",
    "        return True\n",
    "    elif (tree[1][1]==[] and tree[2][1]!=[]) or (tree[1][1]!=[] and tree[2][1]==[]) :\n",
    "        return False\n",
    "    elif tree[2][1]!=[] and tree[1][1]!=[]:\n",
    "        return same_level(tree[1])and same_level(tree[2])\n",
    "\n",
    "T2=[40, [14, [5,[],[]], [4, [], [] ]], [6, [1, [], []], [5, [], []]]]   \n",
    "print(same_level(T1))\n",
    "print(same_level(T2))"
   ]
  },
  {
   "cell_type": "code",
   "execution_count": null,
   "metadata": {},
   "outputs": [],
   "source": []
  }
 ],
 "metadata": {
  "kernelspec": {
   "display_name": "Python 3 (ipykernel)",
   "language": "python",
   "name": "python3"
  },
  "language_info": {
   "codemirror_mode": {
    "name": "ipython",
    "version": 3
   },
   "file_extension": ".py",
   "mimetype": "text/x-python",
   "name": "python",
   "nbconvert_exporter": "python",
   "pygments_lexer": "ipython3",
   "version": "3.9.13"
  }
 },
 "nbformat": 4,
 "nbformat_minor": 4
}
