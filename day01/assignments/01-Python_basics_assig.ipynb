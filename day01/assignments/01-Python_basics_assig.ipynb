{
 "cells": [
  {
   "cell_type": "markdown",
   "id": "a9fe771e",
   "metadata": {},
   "source": [
    "# Python Basic exercises"
   ]
  },
  {
   "cell_type": "markdown",
   "id": "a870b732",
   "metadata": {},
   "source": [
    "## Exercice 1:\n",
    "\n",
    "Create a program that take a name from a user and print hello with the name of the user.\n",
    "\n",
    "Example:\n",
    "- input:\n",
    "\n",
    "```python\n",
    ">>> Hamid\n",
    "```\n",
    "- Desired output:\n",
    "\n",
    "```python\n",
    ">>> Hello Hamid\n",
    "```\n"
   ]
  },
  {
   "cell_type": "code",
   "execution_count": 2,
   "id": "545ba118",
   "metadata": {},
   "outputs": [
    {
     "name": "stdout",
     "output_type": "stream",
     "text": [
      "Enter your name Nouredine\n",
      "hello Nouredine\n"
     ]
    }
   ],
   "source": [
    "name = input(\"Enter your name \")\n",
    "print(\"hello\", name)"
   ]
  },
  {
   "cell_type": "markdown",
   "id": "8ed4f2bc",
   "metadata": {},
   "source": [
    "## Exercise 2:\n",
    "\n",
    "Write a program that take a string from a user, and print the string with capitalize the vowels letters {a, o, u, i, e}.\n",
    "\n",
    "Example:\n",
    "- Input:\n",
    "\n",
    "```python\n",
    ">>> hello world\n",
    "```\n",
    "\n",
    "- Desired output:\n",
    "\n",
    "```python\n",
    ">>> hEllO wOrld\n",
    "```"
   ]
  },
  {
   "cell_type": "code",
   "execution_count": 9,
   "id": "f8f25763",
   "metadata": {},
   "outputs": [
    {
     "name": "stdout",
     "output_type": "stream",
     "text": [
      "Write a phrasenoon\n"
     ]
    },
    {
     "ename": "SyntaxError",
     "evalue": "'return' outside function (2256720813.py, line 6)",
     "output_type": "error",
     "traceback": [
      "\u001b[0;36m  File \u001b[0;32m\"/var/folders/h_/r2xm8lsj3wscg64t_50ksc540000gn/T/ipykernel_29883/2256720813.py\"\u001b[0;36m, line \u001b[0;32m6\u001b[0m\n\u001b[0;31m    return i\u001b[0m\n\u001b[0m    ^\u001b[0m\n\u001b[0;31mSyntaxError\u001b[0m\u001b[0;31m:\u001b[0m 'return' outside function\n"
     ]
    }
   ],
   "source": [
    "phrase=input(\"Write a phrase\")\n",
    "vowels=['a','e','o','u','i']\n",
    "for i in phrase:\n",
    "    if i in vowels:\n",
    "        i.upper()\n",
    "return i\n",
    "print(phrase)"
   ]
  },
  {
   "cell_type": "markdown",
   "id": "50e291f1",
   "metadata": {},
   "source": [
    "###### Exercise 3:\n",
    "\n",
    "Create a program that take a two numbers from a user and print their sum and multiplication.\n",
    "Example:\n",
    "\n",
    "- Input:\n",
    "```python\n",
    ">>> 3\n",
    ">>> 4\n",
    "```\n",
    "- Desired output:\n",
    "```python\n",
    ">>> multiplication of 3 and 4 is 12\n",
    ">>> sum of 3 and 4 is 7\n",
    "```\n"
   ]
  },
  {
   "cell_type": "code",
   "execution_count": 11,
   "id": "22a13b33",
   "metadata": {},
   "outputs": [
    {
     "name": "stdout",
     "output_type": "stream",
     "text": [
      "Enter a number:21\n",
      "0\n",
      "1\n",
      "2\n",
      "3\n",
      "4\n",
      "5\n"
     ]
    }
   ],
   "source": [
    "n=int(input(\"Enter a number:\"))\n",
    "i=0\n",
    "while i<=n:\n",
    "  print(i)\n",
    "  if i%4==0:\n",
    "    n=n//2\n",
    "  i=i+1\n"
   ]
  },
  {
   "cell_type": "markdown",
   "id": "a24b5404",
   "metadata": {},
   "source": [
    "## Exercise 4: \n",
    "\n",
    "Display three string “Name”, “Is”, “James” as “Name**Is**James”\n",
    "\n",
    "Use the `print()` function to format the given words in the mentioned format. Display the ** separator between each string.\n",
    "\n",
    "- Desired Output:\n",
    "```python\n",
    ">>> print('Name', 'Is', 'James') will display Name**Is**James\n",
    "```"
   ]
  },
  {
   "cell_type": "code",
   "execution_count": 4,
   "id": "fac6d6df",
   "metadata": {},
   "outputs": [],
   "source": [
    "# your code here"
   ]
  },
  {
   "cell_type": "code",
   "execution_count": 1,
   "id": "172a7dc8",
   "metadata": {},
   "outputs": [
    {
     "data": {
      "text/html": [
       "<link href='http://fonts.googleapis.com/css?family=Fenix' rel='stylesheet' type='text/css'>\n",
       "<link href='http://fonts.googleapis.com/css?family=Alegreya+Sans:100,300,400,500,700,800,900,100italic,300italic,400italic,500italic,700italic,800italic,900italic' rel='stylesheet' type='text/css'>\n",
       "<link href='http://fonts.googleapis.com/css?family=Source+Code+Pro:300,400' rel='stylesheet' type='text/css'>\n",
       "<style>\n",
       "    @font-face {\n",
       "        font-family: \"Computer Modern\";\n",
       "        src: url('http://mirrors.ctan.org/fonts/cm-unicode/fonts/otf/cmunss.otf');\n",
       "    }\n",
       "    div.cell{\n",
       "        width:600px;\n",
       "        margin-left:16% !important;\n",
       "        margin-right:auto;\n",
       "    }\n",
       "    h1 {\n",
       "        font-family: 'Alegreya Sans', sans-serif;\n",
       "    }\n",
       "    h2 {\n",
       "        font-family: 'Fenix', serif;\n",
       "    }\n",
       "    h3{\n",
       "\t\tfont-family: 'Fenix', serif;\n",
       "        margin-top:12px;\n",
       "        margin-bottom: 3px;\n",
       "       }\n",
       "\th4{\n",
       "\t\tfont-family: 'Fenix', serif;\n",
       "       }\n",
       "    h5 {\n",
       "        font-family: 'Alegreya Sans', sans-serif;\n",
       "    }\t   \n",
       "    div.text_cell_render{\n",
       "        font-family: 'Alegreya Sans',Computer Modern, \"Helvetica Neue\", Arial, Helvetica, Geneva, sans-serif;\n",
       "        line-height: 135%;\n",
       "        font-size: 120%;\n",
       "        width:600px;\n",
       "        margin-left:auto;\n",
       "        margin-right:auto;\n",
       "    }\n",
       "    .CodeMirror{\n",
       "            font-family: \"Source Code Pro\";\n",
       "\t\t\tfont-size: 90%;\n",
       "    }\n",
       "/*    .prompt{\n",
       "        display: None;\n",
       "    }*/\n",
       "    .text_cell_render h1 {\n",
       "        font-weight: 200;\n",
       "        font-size: 50pt;\n",
       "\t\tline-height: 100%;\n",
       "        color:#054BCD;\n",
       "        margin-bottom: 0.5em;\n",
       "        margin-top: 0.5em;\n",
       "        display: block;\n",
       "    }\t\n",
       "    .text_cell_render h5 {\n",
       "        font-weight: 300;\n",
       "        font-size: 16pt;\n",
       "        color: #054BCD;\n",
       "        font-style: italic;\n",
       "        margin-bottom: .5em;\n",
       "        margin-top: 0.5em;\n",
       "        display: block;\n",
       "    }\n",
       "    \n",
       "    .warning{\n",
       "        color: rgb( 240, 20, 20 )\n",
       "        }  \n",
       "</style>\n",
       "<script>\n",
       "    MathJax.Hub.Config({\n",
       "                        TeX: {\n",
       "                           extensions: [\"AMSmath.js\"]\n",
       "                           },\n",
       "                tex2jax: {\n",
       "                    inlineMath: [ ['$','$'], [\"\\\\(\",\"\\\\)\"] ],\n",
       "                    displayMath: [ ['$$','$$'], [\"\\\\[\",\"\\\\]\"] ]\n",
       "                },\n",
       "                displayAlign: 'center', // Change this to 'center' to center equations.\n",
       "                \"HTML-CSS\": {\n",
       "                    styles: {'.MathJax_Display': {\"margin\": 4}}\n",
       "                }\n",
       "        });\n",
       "</script>\n"
      ],
      "text/plain": [
       "<IPython.core.display.HTML object>"
      ]
     },
     "execution_count": 1,
     "metadata": {},
     "output_type": "execute_result"
    }
   ],
   "source": [
    "# css style\n",
    "from IPython.core.display import HTML\n",
    "def css_styling():\n",
    "    styles = open(\"../../styles/custom.css\", \"r\").read()\n",
    "    return HTML(styles)\n",
    "css_styling()"
   ]
  }
 ],
 "metadata": {
  "hide_input": false,
  "kernelspec": {
   "display_name": "Python 3 (ipykernel)",
   "language": "python",
   "name": "python3"
  },
  "language_info": {
   "codemirror_mode": {
    "name": "ipython",
    "version": 3
   },
   "file_extension": ".py",
   "mimetype": "text/x-python",
   "name": "python",
   "nbconvert_exporter": "python",
   "pygments_lexer": "ipython3",
   "version": "3.9.13"
  }
 },
 "nbformat": 4,
 "nbformat_minor": 5
}
